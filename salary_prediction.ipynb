{
 "cells": [
  {
   "cell_type": "code",
   "execution_count": 18,
   "metadata": {},
   "outputs": [],
   "source": [
    "# import necessary packages/libraries\n",
    "\n",
    "import pandas as pd\n",
    "import matplotlib.pyplot as mp"
   ]
  },
  {
   "cell_type": "code",
   "execution_count": 2,
   "metadata": {},
   "outputs": [],
   "source": [
    "# open the dataset\n",
    "data = pd.read_csv('/Users/yogithapalukuri/Documents/yogitha palukuri/machine learning ppts/ml projects/Linear_Regression/dataset.csv')"
   ]
  },
  {
   "cell_type": "code",
   "execution_count": 3,
   "metadata": {},
   "outputs": [
    {
     "data": {
      "text/html": [
       "<div>\n",
       "<style scoped>\n",
       "    .dataframe tbody tr th:only-of-type {\n",
       "        vertical-align: middle;\n",
       "    }\n",
       "\n",
       "    .dataframe tbody tr th {\n",
       "        vertical-align: top;\n",
       "    }\n",
       "\n",
       "    .dataframe thead th {\n",
       "        text-align: right;\n",
       "    }\n",
       "</style>\n",
       "<table border=\"1\" class=\"dataframe\">\n",
       "  <thead>\n",
       "    <tr style=\"text-align: right;\">\n",
       "      <th></th>\n",
       "      <th>Age</th>\n",
       "      <th>Gender</th>\n",
       "      <th>Education Level</th>\n",
       "      <th>Job Title</th>\n",
       "      <th>Years of Experience</th>\n",
       "      <th>Salary</th>\n",
       "    </tr>\n",
       "  </thead>\n",
       "  <tbody>\n",
       "    <tr>\n",
       "      <th>370</th>\n",
       "      <td>35.0</td>\n",
       "      <td>Female</td>\n",
       "      <td>Bachelor's</td>\n",
       "      <td>Senior Marketing Analyst</td>\n",
       "      <td>8.0</td>\n",
       "      <td>85000.0</td>\n",
       "    </tr>\n",
       "    <tr>\n",
       "      <th>371</th>\n",
       "      <td>43.0</td>\n",
       "      <td>Male</td>\n",
       "      <td>Master's</td>\n",
       "      <td>Director of Operations</td>\n",
       "      <td>19.0</td>\n",
       "      <td>170000.0</td>\n",
       "    </tr>\n",
       "    <tr>\n",
       "      <th>372</th>\n",
       "      <td>29.0</td>\n",
       "      <td>Female</td>\n",
       "      <td>Bachelor's</td>\n",
       "      <td>Junior Project Manager</td>\n",
       "      <td>2.0</td>\n",
       "      <td>40000.0</td>\n",
       "    </tr>\n",
       "    <tr>\n",
       "      <th>373</th>\n",
       "      <td>34.0</td>\n",
       "      <td>Male</td>\n",
       "      <td>Bachelor's</td>\n",
       "      <td>Senior Operations Coordinator</td>\n",
       "      <td>7.0</td>\n",
       "      <td>90000.0</td>\n",
       "    </tr>\n",
       "    <tr>\n",
       "      <th>374</th>\n",
       "      <td>44.0</td>\n",
       "      <td>Female</td>\n",
       "      <td>PhD</td>\n",
       "      <td>Senior Business Analyst</td>\n",
       "      <td>15.0</td>\n",
       "      <td>150000.0</td>\n",
       "    </tr>\n",
       "  </tbody>\n",
       "</table>\n",
       "</div>"
      ],
      "text/plain": [
       "      Age  Gender Education Level                      Job Title  \\\n",
       "370  35.0  Female      Bachelor's       Senior Marketing Analyst   \n",
       "371  43.0    Male        Master's         Director of Operations   \n",
       "372  29.0  Female      Bachelor's         Junior Project Manager   \n",
       "373  34.0    Male      Bachelor's  Senior Operations Coordinator   \n",
       "374  44.0  Female             PhD        Senior Business Analyst   \n",
       "\n",
       "     Years of Experience    Salary  \n",
       "370                  8.0   85000.0  \n",
       "371                 19.0  170000.0  \n",
       "372                  2.0   40000.0  \n",
       "373                  7.0   90000.0  \n",
       "374                 15.0  150000.0  "
      ]
     },
     "execution_count": 3,
     "metadata": {},
     "output_type": "execute_result"
    }
   ],
   "source": [
    "#reading the data\n",
    "data\n",
    "\n",
    "# if we want only first 5 rows\n",
    "data.head()\n",
    "\n",
    "# last 5 rows\n",
    "data.tail()"
   ]
  },
  {
   "cell_type": "code",
   "execution_count": 4,
   "metadata": {},
   "outputs": [
    {
     "data": {
      "text/plain": [
       "Index(['Age', 'Gender', 'Education Level', 'Job Title', 'Years of Experience',\n",
       "       'Salary'],\n",
       "      dtype='object')"
      ]
     },
     "execution_count": 4,
     "metadata": {},
     "output_type": "execute_result"
    }
   ],
   "source": [
    "# to know how many rows and column are present\n",
    "data.shape\n",
    "\n",
    "#to know list of the columns\n",
    "data.columns"
   ]
  },
  {
   "cell_type": "code",
   "execution_count": 5,
   "metadata": {},
   "outputs": [
    {
     "data": {
      "text/html": [
       "<div>\n",
       "<style scoped>\n",
       "    .dataframe tbody tr th:only-of-type {\n",
       "        vertical-align: middle;\n",
       "    }\n",
       "\n",
       "    .dataframe tbody tr th {\n",
       "        vertical-align: top;\n",
       "    }\n",
       "\n",
       "    .dataframe thead th {\n",
       "        text-align: right;\n",
       "    }\n",
       "</style>\n",
       "<table border=\"1\" class=\"dataframe\">\n",
       "  <thead>\n",
       "    <tr style=\"text-align: right;\">\n",
       "      <th></th>\n",
       "      <th>Age</th>\n",
       "      <th>Gender</th>\n",
       "      <th>Degree</th>\n",
       "      <th>Job_Title</th>\n",
       "      <th>Experience_Years</th>\n",
       "      <th>Salary</th>\n",
       "    </tr>\n",
       "  </thead>\n",
       "  <tbody>\n",
       "    <tr>\n",
       "      <th>0</th>\n",
       "      <td>32.0</td>\n",
       "      <td>Male</td>\n",
       "      <td>Bachelor's</td>\n",
       "      <td>Software Engineer</td>\n",
       "      <td>5.0</td>\n",
       "      <td>90000.0</td>\n",
       "    </tr>\n",
       "    <tr>\n",
       "      <th>1</th>\n",
       "      <td>28.0</td>\n",
       "      <td>Female</td>\n",
       "      <td>Master's</td>\n",
       "      <td>Data Analyst</td>\n",
       "      <td>3.0</td>\n",
       "      <td>65000.0</td>\n",
       "    </tr>\n",
       "    <tr>\n",
       "      <th>2</th>\n",
       "      <td>45.0</td>\n",
       "      <td>Male</td>\n",
       "      <td>PhD</td>\n",
       "      <td>Senior Manager</td>\n",
       "      <td>15.0</td>\n",
       "      <td>150000.0</td>\n",
       "    </tr>\n",
       "    <tr>\n",
       "      <th>3</th>\n",
       "      <td>36.0</td>\n",
       "      <td>Female</td>\n",
       "      <td>Bachelor's</td>\n",
       "      <td>Sales Associate</td>\n",
       "      <td>7.0</td>\n",
       "      <td>60000.0</td>\n",
       "    </tr>\n",
       "    <tr>\n",
       "      <th>4</th>\n",
       "      <td>52.0</td>\n",
       "      <td>Male</td>\n",
       "      <td>Master's</td>\n",
       "      <td>Director</td>\n",
       "      <td>20.0</td>\n",
       "      <td>200000.0</td>\n",
       "    </tr>\n",
       "    <tr>\n",
       "      <th>...</th>\n",
       "      <td>...</td>\n",
       "      <td>...</td>\n",
       "      <td>...</td>\n",
       "      <td>...</td>\n",
       "      <td>...</td>\n",
       "      <td>...</td>\n",
       "    </tr>\n",
       "    <tr>\n",
       "      <th>370</th>\n",
       "      <td>35.0</td>\n",
       "      <td>Female</td>\n",
       "      <td>Bachelor's</td>\n",
       "      <td>Senior Marketing Analyst</td>\n",
       "      <td>8.0</td>\n",
       "      <td>85000.0</td>\n",
       "    </tr>\n",
       "    <tr>\n",
       "      <th>371</th>\n",
       "      <td>43.0</td>\n",
       "      <td>Male</td>\n",
       "      <td>Master's</td>\n",
       "      <td>Director of Operations</td>\n",
       "      <td>19.0</td>\n",
       "      <td>170000.0</td>\n",
       "    </tr>\n",
       "    <tr>\n",
       "      <th>372</th>\n",
       "      <td>29.0</td>\n",
       "      <td>Female</td>\n",
       "      <td>Bachelor's</td>\n",
       "      <td>Junior Project Manager</td>\n",
       "      <td>2.0</td>\n",
       "      <td>40000.0</td>\n",
       "    </tr>\n",
       "    <tr>\n",
       "      <th>373</th>\n",
       "      <td>34.0</td>\n",
       "      <td>Male</td>\n",
       "      <td>Bachelor's</td>\n",
       "      <td>Senior Operations Coordinator</td>\n",
       "      <td>7.0</td>\n",
       "      <td>90000.0</td>\n",
       "    </tr>\n",
       "    <tr>\n",
       "      <th>374</th>\n",
       "      <td>44.0</td>\n",
       "      <td>Female</td>\n",
       "      <td>PhD</td>\n",
       "      <td>Senior Business Analyst</td>\n",
       "      <td>15.0</td>\n",
       "      <td>150000.0</td>\n",
       "    </tr>\n",
       "  </tbody>\n",
       "</table>\n",
       "<p>375 rows × 6 columns</p>\n",
       "</div>"
      ],
      "text/plain": [
       "      Age  Gender      Degree                      Job_Title  \\\n",
       "0    32.0    Male  Bachelor's              Software Engineer   \n",
       "1    28.0  Female    Master's                   Data Analyst   \n",
       "2    45.0    Male         PhD                 Senior Manager   \n",
       "3    36.0  Female  Bachelor's                Sales Associate   \n",
       "4    52.0    Male    Master's                       Director   \n",
       "..    ...     ...         ...                            ...   \n",
       "370  35.0  Female  Bachelor's       Senior Marketing Analyst   \n",
       "371  43.0    Male    Master's         Director of Operations   \n",
       "372  29.0  Female  Bachelor's         Junior Project Manager   \n",
       "373  34.0    Male  Bachelor's  Senior Operations Coordinator   \n",
       "374  44.0  Female         PhD        Senior Business Analyst   \n",
       "\n",
       "     Experience_Years    Salary  \n",
       "0                 5.0   90000.0  \n",
       "1                 3.0   65000.0  \n",
       "2                15.0  150000.0  \n",
       "3                 7.0   60000.0  \n",
       "4                20.0  200000.0  \n",
       "..                ...       ...  \n",
       "370               8.0   85000.0  \n",
       "371              19.0  170000.0  \n",
       "372               2.0   40000.0  \n",
       "373               7.0   90000.0  \n",
       "374              15.0  150000.0  \n",
       "\n",
       "[375 rows x 6 columns]"
      ]
     },
     "execution_count": 5,
     "metadata": {},
     "output_type": "execute_result"
    }
   ],
   "source": [
    "# rename the columns\n",
    "data.columns = ['Age' , 'Gender' , 'Degree' , 'Job_Title' , 'Experience_Years' , 'Salary']\n",
    "data"
   ]
  },
  {
   "cell_type": "code",
   "execution_count": 6,
   "metadata": {},
   "outputs": [
    {
     "data": {
      "text/plain": [
       "Age                 float64\n",
       "Gender               object\n",
       "Degree               object\n",
       "Job_Title            object\n",
       "Experience_Years    float64\n",
       "Salary              float64\n",
       "dtype: object"
      ]
     },
     "execution_count": 6,
     "metadata": {},
     "output_type": "execute_result"
    }
   ],
   "source": [
    "# to check the data type of them\n",
    "\n",
    "data.dtypes"
   ]
  },
  {
   "cell_type": "code",
   "execution_count": 7,
   "metadata": {},
   "outputs": [
    {
     "name": "stdout",
     "output_type": "stream",
     "text": [
      "<class 'pandas.core.frame.DataFrame'>\n",
      "RangeIndex: 375 entries, 0 to 374\n",
      "Data columns (total 6 columns):\n",
      " #   Column            Non-Null Count  Dtype  \n",
      "---  ------            --------------  -----  \n",
      " 0   Age               373 non-null    float64\n",
      " 1   Gender            373 non-null    object \n",
      " 2   Degree            373 non-null    object \n",
      " 3   Job_Title         373 non-null    object \n",
      " 4   Experience_Years  373 non-null    float64\n",
      " 5   Salary            373 non-null    float64\n",
      "dtypes: float64(3), object(3)\n",
      "memory usage: 17.7+ KB\n"
     ]
    }
   ],
   "source": [
    "# to know more about the dataset\n",
    "data.info()"
   ]
  },
  {
   "cell_type": "code",
   "execution_count": 8,
   "metadata": {},
   "outputs": [
    {
     "data": {
      "text/plain": [
       "(50, 6)"
      ]
     },
     "execution_count": 8,
     "metadata": {},
     "output_type": "execute_result"
    }
   ],
   "source": [
    "# to check how many records are duplicates\n",
    "\n",
    "data[data.duplicated()]\n",
    "\n",
    "# to know the count of the duplicated ones\n",
    "data[data.duplicated()].shape"
   ]
  },
  {
   "cell_type": "code",
   "execution_count": 9,
   "metadata": {},
   "outputs": [],
   "source": [
    "# to drop the duplicate records\n",
    "new_data = data.drop_duplicates(keep = 'first')"
   ]
  },
  {
   "cell_type": "code",
   "execution_count": 10,
   "metadata": {},
   "outputs": [
    {
     "data": {
      "text/plain": [
       "(325, 6)"
      ]
     },
     "execution_count": 10,
     "metadata": {},
     "output_type": "execute_result"
    }
   ],
   "source": [
    "new_data.shape"
   ]
  },
  {
   "cell_type": "code",
   "execution_count": 11,
   "metadata": {},
   "outputs": [
    {
     "data": {
      "text/plain": [
       "Age                 1\n",
       "Gender              1\n",
       "Degree              1\n",
       "Job_Title           1\n",
       "Experience_Years    1\n",
       "Salary              1\n",
       "dtype: int64"
      ]
     },
     "execution_count": 11,
     "metadata": {},
     "output_type": "execute_result"
    }
   ],
   "source": [
    "# to check missing/nll values\n",
    "new_data.isnull().sum()"
   ]
  },
  {
   "cell_type": "code",
   "execution_count": 12,
   "metadata": {},
   "outputs": [
    {
     "name": "stderr",
     "output_type": "stream",
     "text": [
      "/var/folders/b9/79c0vj9575g01hz6pjr3n7800000gn/T/ipykernel_6770/3764002749.py:2: SettingWithCopyWarning: \n",
      "A value is trying to be set on a copy of a slice from a DataFrame\n",
      "\n",
      "See the caveats in the documentation: https://pandas.pydata.org/pandas-docs/stable/user_guide/indexing.html#returning-a-view-versus-a-copy\n",
      "  new_data.dropna(how='any' , inplace=True)\n"
     ]
    },
    {
     "data": {
      "text/plain": [
       "(324, 6)"
      ]
     },
     "execution_count": 12,
     "metadata": {},
     "output_type": "execute_result"
    }
   ],
   "source": [
    "# drop those missing values\n",
    "new_data.dropna(how='any' , inplace=True)\n",
    "\n",
    "# size of data after droping missing and null values\n",
    "new_data.shape"
   ]
  },
  {
   "cell_type": "code",
   "execution_count": 13,
   "metadata": {},
   "outputs": [
    {
     "data": {
      "text/html": [
       "<div>\n",
       "<style scoped>\n",
       "    .dataframe tbody tr th:only-of-type {\n",
       "        vertical-align: middle;\n",
       "    }\n",
       "\n",
       "    .dataframe tbody tr th {\n",
       "        vertical-align: top;\n",
       "    }\n",
       "\n",
       "    .dataframe thead th {\n",
       "        text-align: right;\n",
       "    }\n",
       "</style>\n",
       "<table border=\"1\" class=\"dataframe\">\n",
       "  <thead>\n",
       "    <tr style=\"text-align: right;\">\n",
       "      <th></th>\n",
       "      <th>Age</th>\n",
       "      <th>Gender</th>\n",
       "      <th>Degree</th>\n",
       "      <th>Job_Title</th>\n",
       "      <th>Experience_Years</th>\n",
       "      <th>Salary</th>\n",
       "    </tr>\n",
       "  </thead>\n",
       "  <tbody>\n",
       "    <tr>\n",
       "      <th>0</th>\n",
       "      <td>32.0</td>\n",
       "      <td>Male</td>\n",
       "      <td>Bachelor's</td>\n",
       "      <td>Software Engineer</td>\n",
       "      <td>5.0</td>\n",
       "      <td>90000.0</td>\n",
       "    </tr>\n",
       "    <tr>\n",
       "      <th>1</th>\n",
       "      <td>28.0</td>\n",
       "      <td>Female</td>\n",
       "      <td>Master's</td>\n",
       "      <td>Data Analyst</td>\n",
       "      <td>3.0</td>\n",
       "      <td>65000.0</td>\n",
       "    </tr>\n",
       "    <tr>\n",
       "      <th>2</th>\n",
       "      <td>45.0</td>\n",
       "      <td>Male</td>\n",
       "      <td>PhD</td>\n",
       "      <td>Senior Manager</td>\n",
       "      <td>15.0</td>\n",
       "      <td>150000.0</td>\n",
       "    </tr>\n",
       "    <tr>\n",
       "      <th>3</th>\n",
       "      <td>36.0</td>\n",
       "      <td>Female</td>\n",
       "      <td>Bachelor's</td>\n",
       "      <td>Sales Associate</td>\n",
       "      <td>7.0</td>\n",
       "      <td>60000.0</td>\n",
       "    </tr>\n",
       "    <tr>\n",
       "      <th>4</th>\n",
       "      <td>52.0</td>\n",
       "      <td>Male</td>\n",
       "      <td>Master's</td>\n",
       "      <td>Director</td>\n",
       "      <td>20.0</td>\n",
       "      <td>200000.0</td>\n",
       "    </tr>\n",
       "  </tbody>\n",
       "</table>\n",
       "</div>"
      ],
      "text/plain": [
       "    Age  Gender      Degree          Job_Title  Experience_Years    Salary\n",
       "0  32.0    Male  Bachelor's  Software Engineer               5.0   90000.0\n",
       "1  28.0  Female    Master's       Data Analyst               3.0   65000.0\n",
       "2  45.0    Male         PhD     Senior Manager              15.0  150000.0\n",
       "3  36.0  Female  Bachelor's    Sales Associate               7.0   60000.0\n",
       "4  52.0    Male    Master's           Director              20.0  200000.0"
      ]
     },
     "execution_count": 13,
     "metadata": {},
     "output_type": "execute_result"
    }
   ],
   "source": [
    "new_data.head()"
   ]
  },
  {
   "cell_type": "code",
   "execution_count": 14,
   "metadata": {},
   "outputs": [],
   "source": [
    "#### Data Exploration and Visualization"
   ]
  },
  {
   "cell_type": "code",
   "execution_count": 15,
   "metadata": {},
   "outputs": [
    {
     "data": {
      "text/html": [
       "<div>\n",
       "<style scoped>\n",
       "    .dataframe tbody tr th:only-of-type {\n",
       "        vertical-align: middle;\n",
       "    }\n",
       "\n",
       "    .dataframe tbody tr th {\n",
       "        vertical-align: top;\n",
       "    }\n",
       "\n",
       "    .dataframe thead th {\n",
       "        text-align: right;\n",
       "    }\n",
       "</style>\n",
       "<table border=\"1\" class=\"dataframe\">\n",
       "  <thead>\n",
       "    <tr style=\"text-align: right;\">\n",
       "      <th></th>\n",
       "      <th>Age</th>\n",
       "      <th>Experience_Years</th>\n",
       "      <th>Salary</th>\n",
       "    </tr>\n",
       "  </thead>\n",
       "  <tbody>\n",
       "    <tr>\n",
       "      <th>count</th>\n",
       "      <td>324.000000</td>\n",
       "      <td>324.000000</td>\n",
       "      <td>324.000000</td>\n",
       "    </tr>\n",
       "    <tr>\n",
       "      <th>mean</th>\n",
       "      <td>37.382716</td>\n",
       "      <td>10.058642</td>\n",
       "      <td>99985.648148</td>\n",
       "    </tr>\n",
       "    <tr>\n",
       "      <th>std</th>\n",
       "      <td>7.185844</td>\n",
       "      <td>6.650470</td>\n",
       "      <td>48652.271440</td>\n",
       "    </tr>\n",
       "    <tr>\n",
       "      <th>min</th>\n",
       "      <td>23.000000</td>\n",
       "      <td>0.000000</td>\n",
       "      <td>350.000000</td>\n",
       "    </tr>\n",
       "    <tr>\n",
       "      <th>25%</th>\n",
       "      <td>31.000000</td>\n",
       "      <td>4.000000</td>\n",
       "      <td>55000.000000</td>\n",
       "    </tr>\n",
       "    <tr>\n",
       "      <th>50%</th>\n",
       "      <td>36.500000</td>\n",
       "      <td>9.000000</td>\n",
       "      <td>95000.000000</td>\n",
       "    </tr>\n",
       "    <tr>\n",
       "      <th>75%</th>\n",
       "      <td>44.000000</td>\n",
       "      <td>16.000000</td>\n",
       "      <td>140000.000000</td>\n",
       "    </tr>\n",
       "    <tr>\n",
       "      <th>max</th>\n",
       "      <td>53.000000</td>\n",
       "      <td>25.000000</td>\n",
       "      <td>250000.000000</td>\n",
       "    </tr>\n",
       "  </tbody>\n",
       "</table>\n",
       "</div>"
      ],
      "text/plain": [
       "              Age  Experience_Years         Salary\n",
       "count  324.000000        324.000000     324.000000\n",
       "mean    37.382716         10.058642   99985.648148\n",
       "std      7.185844          6.650470   48652.271440\n",
       "min     23.000000          0.000000     350.000000\n",
       "25%     31.000000          4.000000   55000.000000\n",
       "50%     36.500000          9.000000   95000.000000\n",
       "75%     44.000000         16.000000  140000.000000\n",
       "max     53.000000         25.000000  250000.000000"
      ]
     },
     "execution_count": 15,
     "metadata": {},
     "output_type": "execute_result"
    }
   ],
   "source": [
    "# check the statistics\n",
    "\n",
    "new_data.describe()"
   ]
  },
  {
   "cell_type": "code",
   "execution_count": 16,
   "metadata": {},
   "outputs": [
    {
     "data": {
      "text/html": [
       "<div>\n",
       "<style scoped>\n",
       "    .dataframe tbody tr th:only-of-type {\n",
       "        vertical-align: middle;\n",
       "    }\n",
       "\n",
       "    .dataframe tbody tr th {\n",
       "        vertical-align: top;\n",
       "    }\n",
       "\n",
       "    .dataframe thead th {\n",
       "        text-align: right;\n",
       "    }\n",
       "</style>\n",
       "<table border=\"1\" class=\"dataframe\">\n",
       "  <thead>\n",
       "    <tr style=\"text-align: right;\">\n",
       "      <th></th>\n",
       "      <th>Age</th>\n",
       "      <th>Experience_Years</th>\n",
       "      <th>Salary</th>\n",
       "    </tr>\n",
       "  </thead>\n",
       "  <tbody>\n",
       "    <tr>\n",
       "      <th>Age</th>\n",
       "      <td>1.000000</td>\n",
       "      <td>0.979192</td>\n",
       "      <td>0.916543</td>\n",
       "    </tr>\n",
       "    <tr>\n",
       "      <th>Experience_Years</th>\n",
       "      <td>0.979192</td>\n",
       "      <td>1.000000</td>\n",
       "      <td>0.924455</td>\n",
       "    </tr>\n",
       "    <tr>\n",
       "      <th>Salary</th>\n",
       "      <td>0.916543</td>\n",
       "      <td>0.924455</td>\n",
       "      <td>1.000000</td>\n",
       "    </tr>\n",
       "  </tbody>\n",
       "</table>\n",
       "</div>"
      ],
      "text/plain": [
       "                       Age  Experience_Years    Salary\n",
       "Age               1.000000          0.979192  0.916543\n",
       "Experience_Years  0.979192          1.000000  0.924455\n",
       "Salary            0.916543          0.924455  1.000000"
      ]
     },
     "execution_count": 16,
     "metadata": {},
     "output_type": "execute_result"
    }
   ],
   "source": [
    "# correlation among the numerical features checking the proportonality\n",
    "\n",
    "corr = new_data[['Age' , 'Experience_Years' , 'Salary']].corr()\n",
    "corr"
   ]
  },
  {
   "cell_type": "code",
   "execution_count": 20,
   "metadata": {},
   "outputs": [
    {
     "data": {
      "text/plain": [
       "Bachelor's    191\n",
       "Master's       91\n",
       "PhD            42\n",
       "Name: Degree, dtype: int64"
      ]
     },
     "execution_count": 20,
     "metadata": {},
     "output_type": "execute_result"
    }
   ],
   "source": [
    "# bar charts , box plots , histograms\n",
    "# numeric values = hist ,box\n",
    "# categorical values = bar \n",
    "new_data['Degree'].value_counts()"
   ]
  },
  {
   "cell_type": "code",
   "execution_count": 21,
   "metadata": {},
   "outputs": [
    {
     "data": {
      "text/plain": [
       "<Axes: >"
      ]
     },
     "execution_count": 21,
     "metadata": {},
     "output_type": "execute_result"
    },
    {
     "data": {
      "image/png": "[encoded data removed]",
      "text/plain": [
       "<Figure size 640x480 with 1 Axes>"
      ]
     },
     "metadata": {},
     "output_type": "display_data"
    }
   ],
   "source": [
    "new_data['Degree'].value_counts().plot(kind = 'bar')"
   ]
  },
  {
   "cell_type": "code",
   "execution_count": 22,
   "metadata": {},
   "outputs": [
    {
     "data": {
      "text/plain": [
       "Director of Operations             9\n",
       "Director of Marketing              8\n",
       "Senior Marketing Manager           8\n",
       "Senior Project Manager             7\n",
       "Senior Business Analyst            6\n",
       "                                  ..\n",
       "Business Development Manager       1\n",
       "Customer Service Representative    1\n",
       "IT Manager                         1\n",
       "Digital Marketing Manager          1\n",
       "Junior Web Developer               1\n",
       "Name: Job_Title, Length: 174, dtype: int64"
      ]
     },
     "execution_count": 22,
     "metadata": {},
     "output_type": "execute_result"
    }
   ],
   "source": [
    "new_data['Job_Title'].value_counts()"
   ]
  },
  {
   "cell_type": "code",
   "execution_count": 26,
   "metadata": {},
   "outputs": [
    {
     "data": {
      "text/plain": [
       "<Axes: >"
      ]
     },
     "execution_count": 26,
     "metadata": {},
     "output_type": "execute_result"
    },
    {
     "data": {
      "image/png": "[encoded data removed]",
      "text/plain": [
       "<Figure size 640x480 with 1 Axes>"
      ]
     },
     "metadata": {},
     "output_type": "display_data"
    }
   ],
   "source": [
    "new_data['Degree'].value_counts().plot(kind = 'barh')"
   ]
  },
  {
   "cell_type": "code",
   "execution_count": 27,
   "metadata": {},
   "outputs": [
    {
     "data": {
      "text/plain": [
       "<Axes: ylabel='Frequency'>"
      ]
     },
     "execution_count": 27,
     "metadata": {},
     "output_type": "execute_result"
    },
    {
     "data": {
      "image/png": "[encoded data removed]",
      "text/plain": [
       "<Figure size 640x480 with 1 Axes>"
      ]
     },
     "metadata": {},
     "output_type": "display_data"
    }
   ],
   "source": [
    "new_data.Age.plot(kind = 'hist')"
   ]
  },
  {
   "cell_type": "code",
   "execution_count": 29,
   "metadata": {},
   "outputs": [
    {
     "data": {
      "text/plain": [
       "<Axes: >"
      ]
     },
     "execution_count": 29,
     "metadata": {},
     "output_type": "execute_result"
    },
    {
     "data": {
      "image/png": "[encoded data removed]",
      "text/plain": [
       "<Figure size 640x480 with 1 Axes>"
      ]
     },
     "metadata": {},
     "output_type": "display_data"
    }
   ],
   "source": [
    "\n",
    "new_data.Age.plot(kind = 'box')"
   ]
  },
  {
   "cell_type": "code",
   "execution_count": 33,
   "metadata": {},
   "outputs": [
    {
     "name": "stderr",
     "output_type": "stream",
     "text": [
      "/var/folders/b9/79c0vj9575g01hz6pjr3n7800000gn/T/ipykernel_6770/1831696851.py:11: SettingWithCopyWarning: \n",
      "A value is trying to be set on a copy of a slice from a DataFrame.\n",
      "Try using .loc[row_indexer,col_indexer] = value instead\n",
      "\n",
      "See the caveats in the documentation: https://pandas.pydata.org/pandas-docs/stable/user_guide/indexing.html#returning-a-view-versus-a-copy\n",
      "  new_data['Gender_encode'] = LabelEncoder.fit_transform(new_data['Gender'])\n",
      "/var/folders/b9/79c0vj9575g01hz6pjr3n7800000gn/T/ipykernel_6770/1831696851.py:12: SettingWithCopyWarning: \n",
      "A value is trying to be set on a copy of a slice from a DataFrame.\n",
      "Try using .loc[row_indexer,col_indexer] = value instead\n",
      "\n",
      "See the caveats in the documentation: https://pandas.pydata.org/pandas-docs/stable/user_guide/indexing.html#returning-a-view-versus-a-copy\n",
      "  new_data['Degree_encode'] = LabelEncoder.fit_transform(new_data['Degree'])\n",
      "/var/folders/b9/79c0vj9575g01hz6pjr3n7800000gn/T/ipykernel_6770/1831696851.py:13: SettingWithCopyWarning: \n",
      "A value is trying to be set on a copy of a slice from a DataFrame.\n",
      "Try using .loc[row_indexer,col_indexer] = value instead\n",
      "\n",
      "See the caveats in the documentation: https://pandas.pydata.org/pandas-docs/stable/user_guide/indexing.html#returning-a-view-versus-a-copy\n",
      "  new_data['Job_encode'] = LabelEncoder.fit_transform(new_data['Job_Title'])\n"
     ]
    }
   ],
   "source": [
    "## Feature Engineering - select the useful ones\n",
    "\n",
    "# convert categorical into numerical as model doesnot undertand them\n",
    "\n",
    "# label encoding , one-hot encoding\n",
    "\n",
    "from sklearn.preprocessing import LabelEncoder\n",
    "\n",
    "LabelEncoder = LabelEncoder()\n",
    "\n",
    "new_data['Gender_encode'] = LabelEncoder.fit_transform(new_data['Gender'])\n",
    "new_data['Degree_encode'] = LabelEncoder.fit_transform(new_data['Degree'])\n",
    "new_data['Job_encode'] = LabelEncoder.fit_transform(new_data['Job_Title'])\n"
   ]
  },
  {
   "cell_type": "code",
   "execution_count": 34,
   "metadata": {},
   "outputs": [
    {
     "data": {
      "text/html": [
       "<div>\n",
       "<style scoped>\n",
       "    .dataframe tbody tr th:only-of-type {\n",
       "        vertical-align: middle;\n",
       "    }\n",
       "\n",
       "    .dataframe tbody tr th {\n",
       "        vertical-align: top;\n",
       "    }\n",
       "\n",
       "    .dataframe thead th {\n",
       "        text-align: right;\n",
       "    }\n",
       "</style>\n",
       "<table border=\"1\" class=\"dataframe\">\n",
       "  <thead>\n",
       "    <tr style=\"text-align: right;\">\n",
       "      <th></th>\n",
       "      <th>Age</th>\n",
       "      <th>Gender</th>\n",
       "      <th>Degree</th>\n",
       "      <th>Job_Title</th>\n",
       "      <th>Experience_Years</th>\n",
       "      <th>Salary</th>\n",
       "      <th>Gender_encode</th>\n",
       "      <th>Degree_encode</th>\n",
       "      <th>Job_encode</th>\n",
       "    </tr>\n",
       "  </thead>\n",
       "  <tbody>\n",
       "    <tr>\n",
       "      <th>0</th>\n",
       "      <td>32.0</td>\n",
       "      <td>Male</td>\n",
       "      <td>Bachelor's</td>\n",
       "      <td>Software Engineer</td>\n",
       "      <td>5.0</td>\n",
       "      <td>90000.0</td>\n",
       "      <td>1</td>\n",
       "      <td>0</td>\n",
       "      <td>159</td>\n",
       "    </tr>\n",
       "    <tr>\n",
       "      <th>1</th>\n",
       "      <td>28.0</td>\n",
       "      <td>Female</td>\n",
       "      <td>Master's</td>\n",
       "      <td>Data Analyst</td>\n",
       "      <td>3.0</td>\n",
       "      <td>65000.0</td>\n",
       "      <td>0</td>\n",
       "      <td>1</td>\n",
       "      <td>17</td>\n",
       "    </tr>\n",
       "    <tr>\n",
       "      <th>2</th>\n",
       "      <td>45.0</td>\n",
       "      <td>Male</td>\n",
       "      <td>PhD</td>\n",
       "      <td>Senior Manager</td>\n",
       "      <td>15.0</td>\n",
       "      <td>150000.0</td>\n",
       "      <td>1</td>\n",
       "      <td>2</td>\n",
       "      <td>130</td>\n",
       "    </tr>\n",
       "    <tr>\n",
       "      <th>3</th>\n",
       "      <td>36.0</td>\n",
       "      <td>Female</td>\n",
       "      <td>Bachelor's</td>\n",
       "      <td>Sales Associate</td>\n",
       "      <td>7.0</td>\n",
       "      <td>60000.0</td>\n",
       "      <td>0</td>\n",
       "      <td>0</td>\n",
       "      <td>101</td>\n",
       "    </tr>\n",
       "    <tr>\n",
       "      <th>4</th>\n",
       "      <td>52.0</td>\n",
       "      <td>Male</td>\n",
       "      <td>Master's</td>\n",
       "      <td>Director</td>\n",
       "      <td>20.0</td>\n",
       "      <td>200000.0</td>\n",
       "      <td>1</td>\n",
       "      <td>1</td>\n",
       "      <td>22</td>\n",
       "    </tr>\n",
       "  </tbody>\n",
       "</table>\n",
       "</div>"
      ],
      "text/plain": [
       "    Age  Gender      Degree          Job_Title  Experience_Years    Salary  \\\n",
       "0  32.0    Male  Bachelor's  Software Engineer               5.0   90000.0   \n",
       "1  28.0  Female    Master's       Data Analyst               3.0   65000.0   \n",
       "2  45.0    Male         PhD     Senior Manager              15.0  150000.0   \n",
       "3  36.0  Female  Bachelor's    Sales Associate               7.0   60000.0   \n",
       "4  52.0    Male    Master's           Director              20.0  200000.0   \n",
       "\n",
       "   Gender_encode  Degree_encode  Job_encode  \n",
       "0              1              0         159  \n",
       "1              0              1          17  \n",
       "2              1              2         130  \n",
       "3              0              0         101  \n",
       "4              1              1          22  "
      ]
     },
     "execution_count": 34,
     "metadata": {},
     "output_type": "execute_result"
    }
   ],
   "source": [
    "new_data.head()"
   ]
  },
  {
   "cell_type": "code",
   "execution_count": 38,
   "metadata": {},
   "outputs": [
    {
     "name": "stderr",
     "output_type": "stream",
     "text": [
      "/var/folders/b9/79c0vj9575g01hz6pjr3n7800000gn/T/ipykernel_6770/68276353.py:7: SettingWithCopyWarning: \n",
      "A value is trying to be set on a copy of a slice from a DataFrame.\n",
      "Try using .loc[row_indexer,col_indexer] = value instead\n",
      "\n",
      "See the caveats in the documentation: https://pandas.pydata.org/pandas-docs/stable/user_guide/indexing.html#returning-a-view-versus-a-copy\n",
      "  new_data['Age_Scaled'] = Standard_scaler.fit_transform(new_data[['Age']])\n",
      "/var/folders/b9/79c0vj9575g01hz6pjr3n7800000gn/T/ipykernel_6770/68276353.py:8: SettingWithCopyWarning: \n",
      "A value is trying to be set on a copy of a slice from a DataFrame.\n",
      "Try using .loc[row_indexer,col_indexer] = value instead\n",
      "\n",
      "See the caveats in the documentation: https://pandas.pydata.org/pandas-docs/stable/user_guide/indexing.html#returning-a-view-versus-a-copy\n",
      "  new_data['Experience_Years_Scale'] = Standard_scaler.fit_transform(new_data[['Experience_Years']])\n"
     ]
    }
   ],
   "source": [
    "# scaling -> the age , experience_years are not same scale , beacuse the min , max values are different as we are using linera regression they should be in same scale(standard scale)\n",
    "\n",
    "from sklearn.preprocessing import StandardScaler\n",
    "\n",
    "Standard_scaler = StandardScaler()\n",
    "\n",
    "new_data['Age_Scaled'] = Standard_scaler.fit_transform(new_data[['Age']])\n",
    "new_data['Experience_Years_Scale'] = Standard_scaler.fit_transform(new_data[['Experience_Years']])"
   ]
  },
  {
   "cell_type": "code",
   "execution_count": 39,
   "metadata": {},
   "outputs": [
    {
     "data": {
      "text/html": [
       "<div>\n",
       "<style scoped>\n",
       "    .dataframe tbody tr th:only-of-type {\n",
       "        vertical-align: middle;\n",
       "    }\n",
       "\n",
       "    .dataframe tbody tr th {\n",
       "        vertical-align: top;\n",
       "    }\n",
       "\n",
       "    .dataframe thead th {\n",
       "        text-align: right;\n",
       "    }\n",
       "</style>\n",
       "<table border=\"1\" class=\"dataframe\">\n",
       "  <thead>\n",
       "    <tr style=\"text-align: right;\">\n",
       "      <th></th>\n",
       "      <th>Age</th>\n",
       "      <th>Gender</th>\n",
       "      <th>Degree</th>\n",
       "      <th>Job_Title</th>\n",
       "      <th>Experience_Years</th>\n",
       "      <th>Salary</th>\n",
       "      <th>Gender_encode</th>\n",
       "      <th>Degree_encode</th>\n",
       "      <th>Job_encode</th>\n",
       "      <th>Age_Scaled</th>\n",
       "      <th>Experience_Years_Scale</th>\n",
       "    </tr>\n",
       "  </thead>\n",
       "  <tbody>\n",
       "    <tr>\n",
       "      <th>0</th>\n",
       "      <td>-0.750231</td>\n",
       "      <td>Male</td>\n",
       "      <td>Bachelor's</td>\n",
       "      <td>Software Engineer</td>\n",
       "      <td>-0.761821</td>\n",
       "      <td>90000.0</td>\n",
       "      <td>1</td>\n",
       "      <td>0</td>\n",
       "      <td>159</td>\n",
       "      <td>-0.750231</td>\n",
       "      <td>-0.761821</td>\n",
       "    </tr>\n",
       "    <tr>\n",
       "      <th>1</th>\n",
       "      <td>-1.307742</td>\n",
       "      <td>Female</td>\n",
       "      <td>Master's</td>\n",
       "      <td>Data Analyst</td>\n",
       "      <td>-1.063017</td>\n",
       "      <td>65000.0</td>\n",
       "      <td>0</td>\n",
       "      <td>1</td>\n",
       "      <td>17</td>\n",
       "      <td>-1.307742</td>\n",
       "      <td>-1.063017</td>\n",
       "    </tr>\n",
       "    <tr>\n",
       "      <th>2</th>\n",
       "      <td>1.061680</td>\n",
       "      <td>Male</td>\n",
       "      <td>PhD</td>\n",
       "      <td>Senior Manager</td>\n",
       "      <td>0.744158</td>\n",
       "      <td>150000.0</td>\n",
       "      <td>1</td>\n",
       "      <td>2</td>\n",
       "      <td>130</td>\n",
       "      <td>1.061680</td>\n",
       "      <td>0.744158</td>\n",
       "    </tr>\n",
       "    <tr>\n",
       "      <th>3</th>\n",
       "      <td>-0.192720</td>\n",
       "      <td>Female</td>\n",
       "      <td>Bachelor's</td>\n",
       "      <td>Sales Associate</td>\n",
       "      <td>-0.460625</td>\n",
       "      <td>60000.0</td>\n",
       "      <td>0</td>\n",
       "      <td>0</td>\n",
       "      <td>101</td>\n",
       "      <td>-0.192720</td>\n",
       "      <td>-0.460625</td>\n",
       "    </tr>\n",
       "    <tr>\n",
       "      <th>4</th>\n",
       "      <td>2.037324</td>\n",
       "      <td>Male</td>\n",
       "      <td>Master's</td>\n",
       "      <td>Director</td>\n",
       "      <td>1.497148</td>\n",
       "      <td>200000.0</td>\n",
       "      <td>1</td>\n",
       "      <td>1</td>\n",
       "      <td>22</td>\n",
       "      <td>2.037324</td>\n",
       "      <td>1.497148</td>\n",
       "    </tr>\n",
       "  </tbody>\n",
       "</table>\n",
       "</div>"
      ],
      "text/plain": [
       "        Age  Gender      Degree          Job_Title  Experience_Years  \\\n",
       "0 -0.750231    Male  Bachelor's  Software Engineer         -0.761821   \n",
       "1 -1.307742  Female    Master's       Data Analyst         -1.063017   \n",
       "2  1.061680    Male         PhD     Senior Manager          0.744158   \n",
       "3 -0.192720  Female  Bachelor's    Sales Associate         -0.460625   \n",
       "4  2.037324    Male    Master's           Director          1.497148   \n",
       "\n",
       "     Salary  Gender_encode  Degree_encode  Job_encode  Age_Scaled  \\\n",
       "0   90000.0              1              0         159   -0.750231   \n",
       "1   65000.0              0              1          17   -1.307742   \n",
       "2  150000.0              1              2         130    1.061680   \n",
       "3   60000.0              0              0         101   -0.192720   \n",
       "4  200000.0              1              1          22    2.037324   \n",
       "\n",
       "   Experience_Years_Scale  \n",
       "0               -0.761821  \n",
       "1               -1.063017  \n",
       "2                0.744158  \n",
       "3               -0.460625  \n",
       "4                1.497148  "
      ]
     },
     "execution_count": 39,
     "metadata": {},
     "output_type": "execute_result"
    }
   ],
   "source": [
    "new_data.head()"
   ]
  },
  {
   "cell_type": "code",
   "execution_count": 44,
   "metadata": {},
   "outputs": [],
   "source": [
    "# dependent and independent features\n",
    "\n",
    "X = new_data[['Age_Scaled', 'Gender_encode' , 'Degree_encode' , 'Job_encode' , 'Experience_Years_Scale']]\n",
    "Y = new_data['Salary']"
   ]
  },
  {
   "cell_type": "code",
   "execution_count": 45,
   "metadata": {},
   "outputs": [
    {
     "data": {
      "text/plain": [
       "<bound method NDFrame.head of      Age_Scaled  Gender_encode  Degree_encode  Job_encode  \\\n",
       "0     -0.750231              1              0         159   \n",
       "1     -1.307742              0              1          17   \n",
       "2      1.061680              1              2         130   \n",
       "3     -0.192720              0              0         101   \n",
       "4      2.037324              1              1          22   \n",
       "..          ...            ...            ...         ...   \n",
       "348   -1.307742              0              0          68   \n",
       "349   -0.192720              1              0         111   \n",
       "350    0.922302              0              2         115   \n",
       "351   -0.889609              1              0          63   \n",
       "371    0.782924              1              1          30   \n",
       "\n",
       "     Experience_Years_Scale  \n",
       "0                 -0.761821  \n",
       "1                 -1.063017  \n",
       "2                  0.744158  \n",
       "3                 -0.460625  \n",
       "4                  1.497148  \n",
       "..                      ...  \n",
       "348               -1.364212  \n",
       "349               -0.310027  \n",
       "350                0.894756  \n",
       "351               -1.063017  \n",
       "371                1.346550  \n",
       "\n",
       "[324 rows x 5 columns]>"
      ]
     },
     "execution_count": 45,
     "metadata": {},
     "output_type": "execute_result"
    }
   ],
   "source": [
    "X.head"
   ]
  },
  {
   "cell_type": "code",
   "execution_count": 47,
   "metadata": {},
   "outputs": [],
   "source": [
    "# splitting data into training and testing data\n",
    "\n",
    "from sklearn.model_selection import train_test_split\n",
    "X_train , X_test , Y_train , Y_test = train_test_split(X , Y , test_size= 0.2 , random_state= 42)"
   ]
  },
  {
   "cell_type": "code",
   "execution_count": 48,
   "metadata": {},
   "outputs": [
    {
     "data": {
      "text/plain": [
       "(259, 5)"
      ]
     },
     "execution_count": 48,
     "metadata": {},
     "output_type": "execute_result"
    }
   ],
   "source": [
    "# 80% data for tarining\n",
    "X_train.shape"
   ]
  },
  {
   "cell_type": "code",
   "execution_count": 50,
   "metadata": {},
   "outputs": [
    {
     "data": {
      "text/plain": [
       "(65, 5)"
      ]
     },
     "execution_count": 50,
     "metadata": {},
     "output_type": "execute_result"
    }
   ],
   "source": [
    "# 20% for testing\n",
    "X_test.shape"
   ]
  },
  {
   "cell_type": "code",
   "execution_count": 51,
   "metadata": {},
   "outputs": [],
   "source": [
    "# model Development\n",
    "\n",
    "from sklearn.linear_model import LinearRegression\n",
    "\n",
    "Linear_Regression_Model = LinearRegression()"
   ]
  },
  {
   "cell_type": "code",
   "execution_count": 52,
   "metadata": {},
   "outputs": [
    {
     "data": {
      "text/html": [
       "<style>#sk-container-id-1 {color: black;background-color: white;}#sk-container-id-1 pre{padding: 0;}#sk-container-id-1 div.sk-toggleable {background-color: white;}#sk-container-id-1 label.sk-toggleable__label {cursor: pointer;display: block;width: 100%;margin-bottom: 0;padding: 0.3em;box-sizing: border-box;text-align: center;}#sk-container-id-1 label.sk-toggleable__label-arrow:before {content: \"▸\";float: left;margin-right: 0.25em;color: #696969;}#sk-container-id-1 label.sk-toggleable__label-arrow:hover:before {color: black;}#sk-container-id-1 div.sk-estimator:hover label.sk-toggleable__label-arrow:before {color: black;}#sk-container-id-1 div.sk-toggleable__content {max-height: 0;max-width: 0;overflow: hidden;text-align: left;background-color: #f0f8ff;}#sk-container-id-1 div.sk-toggleable__content pre {margin: 0.2em;color: black;border-radius: 0.25em;background-color: #f0f8ff;}#sk-container-id-1 input.sk-toggleable__control:checked~div.sk-toggleable__content {max-height: 200px;max-width: 100%;overflow: auto;}#sk-container-id-1 input.sk-toggleable__control:checked~label.sk-toggleable__label-arrow:before {content: \"▾\";}#sk-container-id-1 div.sk-estimator input.sk-toggleable__control:checked~label.sk-toggleable__label {background-color: #d4ebff;}#sk-container-id-1 div.sk-label input.sk-toggleable__control:checked~label.sk-toggleable__label {background-color: #d4ebff;}#sk-container-id-1 input.sk-hidden--visually {border: 0;clip: rect(1px 1px 1px 1px);clip: rect(1px, 1px, 1px, 1px);height: 1px;margin: -1px;overflow: hidden;padding: 0;position: absolute;width: 1px;}#sk-container-id-1 div.sk-estimator {font-family: monospace;background-color: #f0f8ff;border: 1px dotted black;border-radius: 0.25em;box-sizing: border-box;margin-bottom: 0.5em;}#sk-container-id-1 div.sk-estimator:hover {background-color: #d4ebff;}#sk-container-id-1 div.sk-parallel-item::after {content: \"\";width: 100%;border-bottom: 1px solid gray;flex-grow: 1;}#sk-container-id-1 div.sk-label:hover label.sk-toggleable__label {background-color: #d4ebff;}#sk-container-id-1 div.sk-serial::before {content: \"\";position: absolute;border-left: 1px solid gray;box-sizing: border-box;top: 0;bottom: 0;left: 50%;z-index: 0;}#sk-container-id-1 div.sk-serial {display: flex;flex-direction: column;align-items: center;background-color: white;padding-right: 0.2em;padding-left: 0.2em;position: relative;}#sk-container-id-1 div.sk-item {position: relative;z-index: 1;}#sk-container-id-1 div.sk-parallel {display: flex;align-items: stretch;justify-content: center;background-color: white;position: relative;}#sk-container-id-1 div.sk-item::before, #sk-container-id-1 div.sk-parallel-item::before {content: \"\";position: absolute;border-left: 1px solid gray;box-sizing: border-box;top: 0;bottom: 0;left: 50%;z-index: -1;}#sk-container-id-1 div.sk-parallel-item {display: flex;flex-direction: column;z-index: 1;position: relative;background-color: white;}#sk-container-id-1 div.sk-parallel-item:first-child::after {align-self: flex-end;width: 50%;}#sk-container-id-1 div.sk-parallel-item:last-child::after {align-self: flex-start;width: 50%;}#sk-container-id-1 div.sk-parallel-item:only-child::after {width: 0;}#sk-container-id-1 div.sk-dashed-wrapped {border: 1px dashed gray;margin: 0 0.4em 0.5em 0.4em;box-sizing: border-box;padding-bottom: 0.4em;background-color: white;}#sk-container-id-1 div.sk-label label {font-family: monospace;font-weight: bold;display: inline-block;line-height: 1.2em;}#sk-container-id-1 div.sk-label-container {text-align: center;}#sk-container-id-1 div.sk-container {/* jupyter's `normalize.less` sets `[hidden] { display: none; }` but bootstrap.min.css set `[hidden] { display: none !important; }` so we also need the `!important` here to be able to override the default hidden behavior on the sphinx rendered scikit-learn.org. See: https://github.com/scikit-learn/scikit-learn/issues/21755 */display: inline-block !important;position: relative;}#sk-container-id-1 div.sk-text-repr-fallback {display: none;}</style><div id=\"sk-container-id-1\" class=\"sk-top-container\"><div class=\"sk-text-repr-fallback\"><pre>LinearRegression()</pre><b>In a Jupyter environment, please rerun this cell to show the HTML representation or trust the notebook. <br />On GitHub, the HTML representation is unable to render, please try loading this page with nbviewer.org.</b></div><div class=\"sk-container\" hidden><div class=\"sk-item\"><div class=\"sk-estimator sk-toggleable\"><input class=\"sk-toggleable__control sk-hidden--visually\" id=\"sk-estimator-id-1\" type=\"checkbox\" checked><label for=\"sk-estimator-id-1\" class=\"sk-toggleable__label sk-toggleable__label-arrow\">LinearRegression</label><div class=\"sk-toggleable__content\"><pre>LinearRegression()</pre></div></div></div></div></div>"
      ],
      "text/plain": [
       "LinearRegression()"
      ]
     },
     "execution_count": 52,
     "metadata": {},
     "output_type": "execute_result"
    }
   ],
   "source": [
    "# Model Training\n",
    "\n",
    "Linear_Regression_Model.fit(X_train , Y_train)"
   ]
  },
  {
   "cell_type": "code",
   "execution_count": 53,
   "metadata": {},
   "outputs": [
    {
     "data": {
      "text/plain": [
       "array([117415.91344602, 125562.80742758,  48965.15386167, 128739.34887988,\n",
       "       106828.49930535,  99654.76748821,  49101.27883652,  57130.71108104,\n",
       "       166333.69009266,  43112.61060113,  40544.18249367, 122553.217185  ,\n",
       "       107631.15450848, 155580.48335296,  83652.23602446, 170890.28450907,\n",
       "        98984.50106226, 109338.33008328,  42267.86835535,  48089.87647812,\n",
       "        75674.93528581,  64499.29874156,  63619.2494321 ,  31543.41552147,\n",
       "       188376.92844437,  90340.76921722, 155285.91529198, 160863.57809872,\n",
       "       185183.73163709,  34741.26224478, 124850.6230462 , 165106.94121635,\n",
       "        87085.00622186, 155425.69514031, 149190.25441885,  45729.74800187,\n",
       "        88475.39474629,  92025.62668073,  97997.32557607,  40411.112659  ,\n",
       "        89995.79796521,  53873.21977084, 108677.48549927,  54590.96778663,\n",
       "        36497.92729223,  48611.85493217, 129193.72126941,  43102.58902589,\n",
       "       162383.16672117,  81874.95829259, 157771.0301154 ,  43984.89040816,\n",
       "        59950.21740617,  94023.81456492,  84929.3880918 ,  60296.00325465,\n",
       "        91816.87952546,  56177.1258728 ,  75243.32853162, 104701.69952733,\n",
       "       117279.78847117,  83396.82187583, 177743.76102871,  72275.14427419,\n",
       "        86307.61361918])"
      ]
     },
     "execution_count": 53,
     "metadata": {},
     "output_type": "execute_result"
    }
   ],
   "source": [
    "# Model prediction\n",
    "\n",
    "pred_value = Linear_Regression_Model.predict(X_test)\n",
    "pred_value"
   ]
  },
  {
   "cell_type": "code",
   "execution_count": 56,
   "metadata": {},
   "outputs": [
    {
     "data": {
      "text/html": [
       "<div>\n",
       "<style scoped>\n",
       "    .dataframe tbody tr th:only-of-type {\n",
       "        vertical-align: middle;\n",
       "    }\n",
       "\n",
       "    .dataframe tbody tr th {\n",
       "        vertical-align: top;\n",
       "    }\n",
       "\n",
       "    .dataframe thead th {\n",
       "        text-align: right;\n",
       "    }\n",
       "</style>\n",
       "<table border=\"1\" class=\"dataframe\">\n",
       "  <thead>\n",
       "    <tr style=\"text-align: right;\">\n",
       "      <th></th>\n",
       "      <th>y_actual</th>\n",
       "      <th>y_predicted</th>\n",
       "      <th>Error</th>\n",
       "      <th>abs_error</th>\n",
       "    </tr>\n",
       "  </thead>\n",
       "  <tbody>\n",
       "    <tr>\n",
       "      <th>132</th>\n",
       "      <td>100000.0</td>\n",
       "      <td>117415.913446</td>\n",
       "      <td>-17415.913446</td>\n",
       "      <td>17415.913446</td>\n",
       "    </tr>\n",
       "    <tr>\n",
       "      <th>108</th>\n",
       "      <td>100000.0</td>\n",
       "      <td>125562.807428</td>\n",
       "      <td>-25562.807428</td>\n",
       "      <td>25562.807428</td>\n",
       "    </tr>\n",
       "    <tr>\n",
       "      <th>137</th>\n",
       "      <td>50000.0</td>\n",
       "      <td>48965.153862</td>\n",
       "      <td>1034.846138</td>\n",
       "      <td>1034.846138</td>\n",
       "    </tr>\n",
       "    <tr>\n",
       "      <th>9</th>\n",
       "      <td>110000.0</td>\n",
       "      <td>128739.348880</td>\n",
       "      <td>-18739.348880</td>\n",
       "      <td>18739.348880</td>\n",
       "    </tr>\n",
       "    <tr>\n",
       "      <th>181</th>\n",
       "      <td>105000.0</td>\n",
       "      <td>106828.499305</td>\n",
       "      <td>-1828.499305</td>\n",
       "      <td>1828.499305</td>\n",
       "    </tr>\n",
       "    <tr>\n",
       "      <th>...</th>\n",
       "      <td>...</td>\n",
       "      <td>...</td>\n",
       "      <td>...</td>\n",
       "      <td>...</td>\n",
       "    </tr>\n",
       "    <tr>\n",
       "      <th>104</th>\n",
       "      <td>80000.0</td>\n",
       "      <td>117279.788471</td>\n",
       "      <td>-37279.788471</td>\n",
       "      <td>37279.788471</td>\n",
       "    </tr>\n",
       "    <tr>\n",
       "      <th>233</th>\n",
       "      <td>85000.0</td>\n",
       "      <td>83396.821876</td>\n",
       "      <td>1603.178124</td>\n",
       "      <td>1603.178124</td>\n",
       "    </tr>\n",
       "    <tr>\n",
       "      <th>60</th>\n",
       "      <td>170000.0</td>\n",
       "      <td>177743.761029</td>\n",
       "      <td>-7743.761029</td>\n",
       "      <td>7743.761029</td>\n",
       "    </tr>\n",
       "    <tr>\n",
       "      <th>94</th>\n",
       "      <td>75000.0</td>\n",
       "      <td>72275.144274</td>\n",
       "      <td>2724.855726</td>\n",
       "      <td>2724.855726</td>\n",
       "    </tr>\n",
       "    <tr>\n",
       "      <th>278</th>\n",
       "      <td>95000.0</td>\n",
       "      <td>86307.613619</td>\n",
       "      <td>8692.386381</td>\n",
       "      <td>8692.386381</td>\n",
       "    </tr>\n",
       "  </tbody>\n",
       "</table>\n",
       "<p>65 rows × 4 columns</p>\n",
       "</div>"
      ],
      "text/plain": [
       "     y_actual    y_predicted         Error     abs_error\n",
       "132  100000.0  117415.913446 -17415.913446  17415.913446\n",
       "108  100000.0  125562.807428 -25562.807428  25562.807428\n",
       "137   50000.0   48965.153862   1034.846138   1034.846138\n",
       "9    110000.0  128739.348880 -18739.348880  18739.348880\n",
       "181  105000.0  106828.499305  -1828.499305   1828.499305\n",
       "..        ...            ...           ...           ...\n",
       "104   80000.0  117279.788471 -37279.788471  37279.788471\n",
       "233   85000.0   83396.821876   1603.178124   1603.178124\n",
       "60   170000.0  177743.761029  -7743.761029   7743.761029\n",
       "94    75000.0   72275.144274   2724.855726   2724.855726\n",
       "278   95000.0   86307.613619   8692.386381   8692.386381\n",
       "\n",
       "[65 rows x 4 columns]"
      ]
     },
     "execution_count": 56,
     "metadata": {},
     "output_type": "execute_result"
    }
   ],
   "source": [
    "# checking for the diff between actual and predicted_value \n",
    "\n",
    "df = pd.DataFrame({'y_actual' : Y_test , 'y_predicted' : pred_value})\n",
    "df['Error'] = df['y_actual'] - df['y_predicted']\n",
    "df['abs_error'] = abs(df['Error'])\n",
    "df"
   ]
  },
  {
   "cell_type": "code",
   "execution_count": 57,
   "metadata": {},
   "outputs": [
    {
     "data": {
      "text/plain": [
       "10570.786401136169"
      ]
     },
     "execution_count": 57,
     "metadata": {},
     "output_type": "execute_result"
    }
   ],
   "source": [
    "# Claculate mean absolute error\n",
    "\n",
    "Mean_absolute_Error = df['abs_error'].mean()\n",
    "Mean_absolute_Error"
   ]
  },
  {
   "cell_type": "code",
   "execution_count": 58,
   "metadata": {},
   "outputs": [
    {
     "data": {
      "text/plain": [
       "0.891123106651709"
      ]
     },
     "execution_count": 58,
     "metadata": {},
     "output_type": "execute_result"
    }
   ],
   "source": [
    "# Model Evaluation\n",
    "\n",
    "from sklearn.metrics import accuracy_score ,r2_score\n",
    "from sklearn.metrics import mean_absolute_error , mean_squared_error\n",
    "\n",
    "r2_score(Y_test , pred_value)"
   ]
  },
  {
   "cell_type": "code",
   "execution_count": 59,
   "metadata": {},
   "outputs": [
    {
     "name": "stdout",
     "output_type": "stream",
     "text": [
      "Accuracy of the model is = 89.11%\n"
     ]
    }
   ],
   "source": [
    "# Accuracy of the Model\n",
    "\n",
    "print(f'Accuracy of the model is = {round(r2_score(Y_test , pred_value),4)*100}%')"
   ]
  },
  {
   "cell_type": "code",
   "execution_count": null,
   "metadata": {},
   "outputs": [],
   "source": []
  }
 ],
 "metadata": {
  "kernelspec": {
   "display_name": "Python 3",
   "language": "python",
   "name": "python3"
  },
  "language_info": {
   "codemirror_mode": {
    "name": "ipython",
    "version": 3
   },
   "file_extension": ".py",
   "mimetype": "text/x-python",
   "name": "python",
   "nbconvert_exporter": "python",
   "pygments_lexer": "ipython3",
   "version": "3.10.7"
  }
 },
 "nbformat": 4,
 "nbformat_minor": 2
}
